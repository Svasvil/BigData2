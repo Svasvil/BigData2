{
  "cells": [
    {
      "cell_type": "markdown",
      "id": "7e039b81",
      "metadata": {
        "id": "7e039b81"
      },
      "source": [
        "# Práctica 02  (5%) Entrega Lección 05, 17:30 horas"
      ]
    },
    {
      "cell_type": "markdown",
      "id": "5791c36b",
      "metadata": {
        "id": "5791c36b"
      },
      "source": [
        "## Condicionales, ciclos y funciones"
      ]
    },
    {
      "cell_type": "markdown",
      "id": "074aae3a",
      "metadata": {
        "id": "074aae3a"
      },
      "source": [
        "Se presentan dos casos divertidos para practicar funciones, condicionales y ciclos.\n",
        "Escoja uno de los dos y escriba un programa que lo implemente."
      ]
    },
    {
      "cell_type": "markdown",
      "id": "ed2805be",
      "metadata": {
        "id": "ed2805be"
      },
      "source": [
        "1. Codificar en Python el [cifrado de César](https://es.wikipedia.org/wiki/Cifrado_César#:~:text=Es%20un%20tipo%20de%20cifrado,más%20adelante%20en%20el%20alfabeto.), una técnica simple de cifrado que consiste en desplazar las letras del alfabeto un número fijo de posiciones.  \n",
        "    1. Crear una función \"cifrarCesar\" que reciba como parámetro el desplazamiento y el mensaje y retorne el mensaje cifrado.\n",
        "    1. Crear una función \"descifrarCesar\" que reciba como parámetro el desplazamiento y el mensaje cifrado y retorne el mensaje original.\n",
        "    1. Hacer una prueba\n",
        "    \n",
        "Usar desplazamiento hacia la derecha."
      ]
    },
    {
      "cell_type": "code",
      "execution_count": 86,
      "id": "66dafb7e",
      "metadata": {
        "colab": {
          "base_uri": "https://localhost:8080/"
        },
        "id": "66dafb7e",
        "outputId": "abd682c4-e037-4b6c-fa96-67fab9260322"
      },
      "outputs": [
        {
          "output_type": "stream",
          "name": "stdout",
          "text": [
            "Cifrado: dki fcvc\n",
            "Descifrado: big data\n"
          ]
        }
      ],
      "source": [
        "def cesar(desplazamiento, mensaje):\n",
        "    resultado = \"\"\n",
        "    for letra in mensaje:\n",
        "        if letra.isalpha():\n",
        "            inicio = ord('a') ##le decimos que vamos a usar la  a como letra de inicio\n",
        "            cifrada = chr((ord(letra) - inicio + desplazamiento) % 26 + inicio) ## Cifra la letra hacia el num de desplazamiento,\n",
        "            resultado += cifrada\n",
        "        else:\n",
        "            resultado += letra\n",
        "    return resultado\n",
        "\n",
        "def descifrarCesar(desplazamiento, mensaje_cifrado):\n",
        "    return cesar(-desplazamiento, mensaje_cifrado)\n",
        "\n",
        "# Prueba con un desplazamiento de 3\n",
        "mensaje = \"big data\"\n",
        "desplazamiento = 2\n",
        "mensaje1 = cesar(desplazamiento, mensaje)\n",
        "mensaje2 = cesar(desplazamiento, mensaje1)\n",
        "\n",
        "print(\"Cifrado:\", mensaje1)\n",
        "print(\"Descifrado:\", mensaje)"
      ]
    },
    {
      "cell_type": "markdown",
      "id": "000622a3",
      "metadata": {
        "id": "000622a3"
      },
      "source": [
        "2. Codificar en Python un juego de piedra, papel o tijera en el que el usuario juegue contra la computadora.\n",
        "    1. Crear una función que escoja y retorne la opción (piedra, papel o tijera) por la computadora (ver sugerencia)\n",
        "    1. Crear una función que elige el ganador (con base en las reglas del juego: piedra le gana a tijera, tijera le gana a papel y papel le gana a piedra) o determina empate.\n",
        "    1. Crear una función que controla el juego: le pregunta al usuario que si quiere jugar o terminar. Si quiere jugar recibe la opción del usuario, genera la opción de la computadora y determina el resultado."
      ]
    },
    {
      "cell_type": "code",
      "execution_count": 87,
      "id": "2f987cc1",
      "metadata": {
        "colab": {
          "base_uri": "https://localhost:8080/"
        },
        "id": "2f987cc1",
        "outputId": "ebadea78-6272-45a8-c19e-9ad090fef9c2"
      },
      "outputs": [
        {
          "output_type": "stream",
          "name": "stdout",
          "text": [
            "Persona 1: piedra\n",
            "Persona 2:  papel\n",
            "Gana Persona 2\n"
          ]
        }
      ],
      "source": [
        "# Sugerencia para que la computadora juegue: Puede usar el método choice de la clase random\n",
        "\n",
        "import numpy as np\n",
        "\n",
        "\n",
        "def juego():\n",
        "  opciones = ['piedra','papel','tijera']\n",
        "  opcionComputadora = np.random.choice(opciones)\n",
        "  opcionComputadora2 = np.random.choice(opciones)\n",
        "  print(\"Persona 1:\",opcionComputadora)\n",
        "  print(\"Persona 2: \",opcionComputadora2)\n",
        "  return opcionComputadora, opcionComputadora2\n",
        "\n",
        "def ganador(opcionComputadora,opcionComputadora2):\n",
        "  if opcionComputadora == opcionComputadora2:\n",
        "    print(\"Empate\")\n",
        "  elif (opcionComputadora == \"piedra\" and opcionComputadora2 == \"tijera\") or (opcionComputadora == \"tijera\" and opcionComputadora2 == \"papel\") or  (opcionComputadora == \"papel\" and opcionComputadora2 == \"piedra\"):\n",
        "      print('Gana Persona 1')\n",
        "  else:\n",
        "    print('Gana Persona 2')\n",
        "\n",
        "\n",
        "opcionComputadora, opcionComputadora2 = juego()\n",
        "ganador(opcionComputadora, opcionComputadora2)"
      ]
    }
  ],
  "metadata": {
    "kernelspec": {
      "display_name": "Python [conda env:base] *",
      "language": "python",
      "name": "conda-base-py"
    },
    "language_info": {
      "codemirror_mode": {
        "name": "ipython",
        "version": 3
      },
      "file_extension": ".py",
      "mimetype": "text/x-python",
      "name": "python",
      "nbconvert_exporter": "python",
      "pygments_lexer": "ipython3",
      "version": "3.12.7"
    },
    "colab": {
      "provenance": [],
      "toc_visible": true
    }
  },
  "nbformat": 4,
  "nbformat_minor": 5
}